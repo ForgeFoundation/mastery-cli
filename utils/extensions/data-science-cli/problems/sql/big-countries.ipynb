{
 "cells": [
  {
   "cell_type": "code",
   "execution_count": 3,
   "metadata": {},
   "outputs": [
    {
     "name": "stdout",
     "output_type": "stream",
     "text": [
      "('Afghanistan', 25500100, 652230)\n",
      "('Algeria', 37100000, 2381741)\n"
     ]
    }
   ],
   "source": [
    "import sqlite3\n",
    "\n",
    "# Connect to the SQLite database (create it if it doesn't exist)\n",
    "conn = sqlite3.connect('world.db')\n",
    "\n",
    "# Create a cursor object to execute SQL queries\n",
    "cursor = conn.cursor()\n",
    "\n",
    "# Create the World table\n",
    "cursor.execute('''CREATE TABLE IF NOT EXISTS World (\n",
    "                    name VARCHAR PRIMARY KEY,\n",
    "                    continent VARCHAR,\n",
    "                    area INT,\n",
    "                    population INT,\n",
    "                    gdp BIGINT\n",
    "                )''')\n",
    "\n",
    "# Insert data into the table\n",
    "data = [\n",
    "    (\"Afghanistan\", \"Asia\", 652230, 25500100, 20343000000),\n",
    "    (\"Albania\", \"Europe\", 28748, 2831741, 12960000000),\n",
    "    (\"Algeria\", \"Africa\", 2381741, 37100000, 188681000000),\n",
    "    (\"Andorra\", \"Europe\", 468, 78115, 3712000000),\n",
    "    (\"Angola\", \"Africa\", 1246700, 20609294, 100990000000),\n",
    "]\n",
    "\n",
    "cursor.executemany(\"INSERT INTO World (name, continent, area, population, gdp) VALUES (?, ?, ?, ?, ?)\", data)\n",
    "\n",
    "# Commit the changes to the database\n",
    "conn.commit()\n"
   ]
  },
  {
   "cell_type": "markdown",
   "metadata": {},
   "source": [
    "## Problem Description\n",
    "\n",
    "Table: World\n",
    "\n",
    "| Column Name | Type    |\n",
    "|-------------|---------|\n",
    "| name        | varchar |\n",
    "| continent   | varchar |\n",
    "| area        | int     |\n",
    "| population  | int     |\n",
    "| gdp         | bigint  |\n",
    "\n",
    "`name` is the primary key (column with unique values) for this table.\n",
    "\n",
    "Each row of this table gives information about the name of a country, the continent to which it belongs, its area, the population, and its GDP value.\n",
    "\n",
    "A country is considered big if it satisfies one of the following conditions:\n",
    "1. It has an area of at least three million square kilometers (i.e., 3,000,000 km²).\n",
    "2. It has a population of at least twenty-five million (i.e., 25,000,000).\n",
    "\n",
    "Write a SQL query to find the name, population, and area of the big countries.\n",
    "\n",
    "Return the result table in any order.\n",
    "\n",
    "### Example\n",
    "\n",
    "The result format is as follows:\n",
    "\n",
    "| name         | population | area      |\n",
    "|--------------|------------|-----------|\n",
    "| Country1     | 25000000   | 3000000   |\n",
    "| Country2     | 3000000    | 25000000  |\n",
    "\n",
    "## Explanation\n",
    "\n",
    "- `Country1` satisfies condition 1 (area >= 3,000,000 km²) and condition 2 (population >= 25,000,000).\n",
    "- `Country2` satisfies condition 1 (area >= 3,000,000 km²) and condition 2 (population >= 25,000,000).\n",
    "- Other countries in the table may not satisfy any of the conditions, so they are not included in the result.\n"
   ]
  },
  {
   "cell_type": "code",
   "execution_count": null,
   "metadata": {},
   "outputs": [],
   "source": [
    "\n",
    "# TODO Select the big countries\n",
    "\n",
    "\n",
    "selected_rows = cursor.fetchall()\n",
    "\n",
    "# Print the selected rows\n",
    "for row in selected_rows:\n",
    "    print(row)"
   ]
  },
  {
   "cell_type": "markdown",
   "metadata": {},
   "source": [
    "cursor.execute(\"SELECT name, population, area FROM World WHERE area >= 3000000 OR population >= 25000000\")\n"
   ]
  },
  {
   "cell_type": "code",
   "execution_count": null,
   "metadata": {},
   "outputs": [],
   "source": [
    "\n",
    "\n",
    "# Close the cursor and the database connection\n",
    "cursor.close()\n",
    "conn.close()\n"
   ]
  }
 ],
 "metadata": {
  "kernelspec": {
   "display_name": "base",
   "language": "python",
   "name": "python3"
  },
  "language_info": {
   "codemirror_mode": {
    "name": "ipython",
    "version": 3
   },
   "file_extension": ".py",
   "mimetype": "text/x-python",
   "name": "python",
   "nbconvert_exporter": "python",
   "pygments_lexer": "ipython3",
   "version": "3.9.12"
  }
 },
 "nbformat": 4,
 "nbformat_minor": 2
}
