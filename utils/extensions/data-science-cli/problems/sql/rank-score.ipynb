{
 "cells": [
  {
   "cell_type": "markdown",
   "metadata": {},
   "source": [
    "## Rank Score\n",
    "\n",
    "https://leetcode.com/problems/rank-scores/solution/\n"
   ]
  },
  {
   "cell_type": "code",
   "execution_count": 21,
   "metadata": {},
   "outputs": [
    {
     "data": {
      "text/plain": [
       "<sqlite3.Cursor at 0x29f6dd64180>"
      ]
     },
     "execution_count": 21,
     "metadata": {},
     "output_type": "execute_result"
    }
   ],
   "source": [
    "import sqlite3\n",
    "\n",
    "# Connect to the SQLite database (create it if it doesn't exist)\n",
    "conn = sqlite3.connect('scoresX.db')\n",
    "\n",
    "# Create a cursor object to execute SQL queries\n",
    "cursor = conn.cursor()\n",
    "\n",
    "# Create the Scores table and insert data\n",
    "cursor.execute('''CREATE TABLE IF NOT EXISTS Scores (\n",
    "                    id INT PRIMARY KEY,\n",
    "                    score DECIMAL(5, 2)\n",
    "                )''')\n",
    "\n",
    "# Insert data into the Scores table\n",
    "score_data = [\n",
    "    (1, 3.50),\n",
    "    (2, 3.65),\n",
    "    (3, 4.00),\n",
    "    (4, 3.85),\n",
    "    (5, 4.00),\n",
    "    (6, 3.65),\n",
    "]\n",
    "\n",
    "cursor.executemany(\"INSERT INTO Scores (id, score) VALUES (?, ?)\", score_data)\n",
    "\n",
    "\n"
   ]
  },
  {
   "cell_type": "code",
   "execution_count": 27,
   "metadata": {},
   "outputs": [],
   "source": [
    "## Setup if the above doesn't work\n",
    "\n",
    "import sqlite3\n",
    "\n",
    "# Connect to the SQLite database (create it if it doesn't exist)\n",
    "conn = sqlite3.connect('scores.db')\n",
    "\n",
    "# Create a cursor object to execute SQL queries\n",
    "cursor = conn.cursor()\n",
    "import pandas as pd\n",
    "\n",
    "# Create the Scores DataFrame\n",
    "data = {'id': [1, 2, 3, 4, 5, 6],\n",
    "        'score': [3.50, 3.65, 4.00, 3.85, 4.00, 3.65]}\n",
    "\n",
    "scores_df = pd.DataFrame(data)"
   ]
  },
  {
   "cell_type": "markdown",
   "metadata": {},
   "source": [
    "## Problem Description\n",
    "\n",
    "Table: Scores\n",
    "\n",
    "| Column Name | Type    |\n",
    "|-------------|---------|\n",
    "| id          | int     |\n",
    "| score       | decimal |\n",
    "\n",
    "`id` is the primary key (column with unique values) for this table.\n",
    "\n",
    "Each row of this table contains the score of a game. Score is a floating point value with two decimal places.\n",
    "\n",
    "Write a SQL query to find the rank of the scores. The ranking should be calculated according to the following rules:\n",
    "\n",
    "- The scores should be ranked from the highest to the lowest.\n",
    "- If there is a tie between two scores, both should have the same ranking.\n",
    "- After a tie, the next ranking number should be the next consecutive integer value. In other words, there should be no holes between ranks.\n",
    "\n",
    "Return the result table ordered by score in descending order.\n",
    "\n",
    "The result format is in the following example:\n",
    "\n",
    "| score | rank |\n",
    "|-------|------|\n",
    "\n",
    "### Example\n",
    "\n",
    "Example 1:\n",
    "\n",
    "Input:\n",
    "Scores table:\n",
    "| id | score |\n",
    "|----|-------|\n",
    "| 1  | 3.50  |\n",
    "| 2  | 3.65  |\n",
    "| 3  | 4.00  |\n",
    "| 4  | 3.85  |\n",
    "| 5  | 4.00  |\n",
    "| 6  | 3.65  |\n",
    "\n",
    "Output:\n",
    "| score | rank |\n",
    "|-------|------|\n",
    "| 4.00  | 1    |\n",
    "| 4.00  | 1    |\n",
    "| 3.85  | 2    |\n",
    "| 3.65  | 3    |\n",
    "| 3.65  | 3    |\n",
    "| 3.50  | 4    |\n",
    "\n",
    "Explanation:\n",
    "In Example 1, the scores are ranked from highest to lowest. There is a tie between scores 4.00 and 4.00, so they both have rank 1. The next highest score is 3.85, which has rank 2, and so on.\n"
   ]
  },
  {
   "cell_type": "code",
   "execution_count": 30,
   "metadata": {},
   "outputs": [
    {
     "name": "stdout",
     "output_type": "stream",
     "text": [
      "   score  rank\n",
      "0   3.50     4\n",
      "1   3.65     3\n",
      "2   4.00     1\n",
      "3   3.85     2\n",
      "4   4.00     1\n",
      "5   3.65     3\n"
     ]
    }
   ],
   "source": [
    "## TODO 1: Calculate the rank of each score using Pandas\n",
    "\n",
    "# Display the result table\n",
    "result = scores_df[['score', 'rank']]\n",
    "print(result)"
   ]
  },
  {
   "cell_type": "markdown",
   "metadata": {},
   "source": [
    "\n",
    "### Sort the DataFrame by score in descending order\n",
    "scores_df = scores_df.sort_values(by='score', ascending=False)\n",
    "\n",
    "### Calculate the rank using rank() method with method='dense' to handle ties\n",
    "scores_df['rank'] = scores_df['score'].rank(method='dense', ascending=False).astype(int)\n",
    "\n",
    "```bash\n",
    "   score  rank\n",
    "2   4.00     1\n",
    "4   4.00     1\n",
    "3   3.85     2\n",
    "1   3.65     3\n",
    "5   3.65     3\n",
    "0   3.50     4\n",
    "```"
   ]
  },
  {
   "cell_type": "code",
   "execution_count": 22,
   "metadata": {},
   "outputs": [
    {
     "name": "stdout",
     "output_type": "stream",
     "text": [
      "(4, 1)\n",
      "(4, 1)\n",
      "(3.85, 2)\n",
      "(3.65, 3)\n",
      "(3.65, 3)\n",
      "(3.5, 4)\n"
     ]
    }
   ],
   "source": [
    "\n",
    "# TODO Calculate the rank of scores BY Counting the number of scores that are greater than or equal to the current score\n",
    "\n",
    "\n",
    "result = cursor.fetchall()\n",
    "\n",
    "# Print the result\n",
    "for row in result:\n",
    "    print(row)\n"
   ]
  },
  {
   "cell_type": "markdown",
   "metadata": {},
   "source": [
    "cursor.execute('''\n",
    "    SELECT score, \n",
    "           (SELECT COUNT(DISTINCT score) FROM Scores s2 WHERE s2.score >= s1.score) AS rank\n",
    "    FROM Scores s1\n",
    "    ORDER BY score DESC\n",
    "''')\n"
   ]
  },
  {
   "cell_type": "code",
   "execution_count": 23,
   "metadata": {},
   "outputs": [
    {
     "name": "stdout",
     "output_type": "stream",
     "text": [
      "(4, 1)\n",
      "(4, 1)\n",
      "(3.85, 2)\n",
      "(3.65, 3)\n",
      "(3.65, 3)\n",
      "(3.5, 4)\n"
     ]
    }
   ],
   "source": [
    "## TODO Use Desnse Rank to calculate the rank of scores\n",
    "\n",
    "\n",
    "\n",
    "# Fetch and display the result\n",
    "result = cursor.fetchall()\n",
    "for row in result:\n",
    "    print(row)"
   ]
  },
  {
   "cell_type": "markdown",
   "metadata": {},
   "source": [
    "cursor.execute(\"\"\"\n",
    "SELECT\n",
    "  S.score,\n",
    "  DENSE_RANK() OVER (\n",
    "    ORDER BY\n",
    "      S.score DESC\n",
    "  ) AS 'rank'\n",
    "FROM\n",
    "  Scores S;\n",
    "               \"\"\")"
   ]
  },
  {
   "cell_type": "code",
   "execution_count": 25,
   "metadata": {},
   "outputs": [
    {
     "name": "stdout",
     "output_type": "stream",
     "text": [
      "(4, 1)\n",
      "(4, 1)\n",
      "(3.85, 2)\n",
      "(3.65, 3)\n",
      "(3.65, 3)\n",
      "(3.5, 4)\n"
     ]
    }
   ],
   "source": [
    "## TODO Use Inner JOIN with Count Distinct to calculate the rank of scores\n",
    "\n",
    "\n",
    "# Fetch and display the result\n",
    "result = cursor.fetchall()\n",
    "for row in result:\n",
    "    print(row)"
   ]
  },
  {
   "cell_type": "markdown",
   "metadata": {},
   "source": [
    "Approach 3: INNER JOIN with COUNT(DISTINCT ...)\n",
    "Intuition\n",
    "The intuition for this approach is fundamentally the same as that for Approach 2, but the manner of implementation is completely different.\n",
    "\n",
    "Algorithm\n",
    "Join the Scores table to itself in such a manner that for each score we get all rows having a score greater than or equal to this score.\n",
    "Group query rows by id and score value.\n",
    "Count the number of distinct scores greater than or equal to the score used in the join condition (this is the ranking).\n",
    "Order the result set by the score value.\n",
    "Implementation\n",
    "\n",
    "The intuition for this approach is fundamentally the same as that for Approach 2, but the manner of implementation is completely different.\n",
    "\n",
    "Algorithm\n",
    "Join the Scores table to itself in such a manner that for each score we get all rows having a score greater than or equal to this score.\n",
    "Group query rows by id and score value.\n",
    "Count the number of distinct scores greater than or equal to the score used in the join condition (this is the ranking).\n",
    "Order the result set by the score value.\n",
    "\n",
    "\n",
    "```sql\n",
    "SELECT\n",
    "  S.score,\n",
    "  COUNT(DISTINCT T.score) AS 'rank'\n",
    "FROM\n",
    "  Scores S\n",
    "  INNER JOIN Scores T ON S.score <= T.score\n",
    "GROUP BY\n",
    "  S.id,\n",
    "  S.score\n",
    "ORDER BY\n",
    "  S.score DESC;\n",
    "```\n",
    "\n",
    "\n",
    "cursor.execute(\"\"\"\n",
    "    SELECT s1.score, COUNT(DISTINCT s2.score) AS rank\n",
    "               FROM Scores s1\n",
    "                INNER JOIN Scores s2 ON s1.score <= s2.score\n",
    "                GROUP BY s1.id, s1.score\n",
    "                ORDER BY s1.score DESC;\n",
    "               \n",
    "               \n",
    "               \"\"\")"
   ]
  },
  {
   "cell_type": "code",
   "execution_count": 12,
   "metadata": {},
   "outputs": [],
   "source": [
    "\n",
    "# Close the cursor and the database connection\n",
    "cursor.close()\n",
    "conn.close()"
   ]
  },
  {
   "cell_type": "code",
   "execution_count": null,
   "metadata": {},
   "outputs": [],
   "source": []
  }
 ],
 "metadata": {
  "kernelspec": {
   "display_name": "base",
   "language": "python",
   "name": "python3"
  },
  "language_info": {
   "codemirror_mode": {
    "name": "ipython",
    "version": 3
   },
   "file_extension": ".py",
   "mimetype": "text/x-python",
   "name": "python",
   "nbconvert_exporter": "python",
   "pygments_lexer": "ipython3",
   "version": "3.9.12"
  }
 },
 "nbformat": 4,
 "nbformat_minor": 2
}
