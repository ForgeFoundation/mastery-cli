{
 "cells": [
  {
   "cell_type": "markdown",
   "metadata": {},
   "source": [
    "### Violin Plots"
   ]
  },
  {
   "cell_type": "code",
   "execution_count": null,
   "metadata": {},
   "outputs": [],
   "source": [
    "# import libraries\n",
    "import matplotlib.pyplot as plt\n",
    "import numpy as np\n",
    "import scipy.stats as stats"
   ]
  },
  {
   "cell_type": "code",
   "execution_count": null,
   "metadata": {},
   "outputs": [],
   "source": [
    "## create the data\n",
    "\n",
    "n = 1000\n",
    "thresh = 5 # threshold for cropping data\n",
    "\n",
    "data = np.exp( np.random.randn(n) )\n",
    "data[data>thresh] = thresh + np.random.randn(sum(data>thresh))*.1\n",
    "\n",
    "# TODO show histogram\n",
    "\n",
    "# TODO show violin plot"
   ]
  },
  {
   "cell_type": "markdown",
   "metadata": {},
   "source": [
    "\n",
    "\n",
    "plt.hist(data,30)\n",
    "plt.title('Histogram')\n",
    "plt.show()\n",
    "....\n",
    "\n",
    "plt.violinplot(data)\n",
    "plt.title('Violin')\n",
    "plt.show()\n",
    "\n",
    "![](./../../../img/2023-10-24-11-57-15.png)"
   ]
  },
  {
   "cell_type": "code",
   "execution_count": null,
   "metadata": {},
   "outputs": [],
   "source": [
    "# another option: swarm plot\n",
    "\n",
    "import seaborn as sns\n",
    "## TOOD show swarm plot using sns.swarmplot\n",
    "\n"
   ]
  },
  {
   "cell_type": "markdown",
   "metadata": {},
   "source": [
    "\n",
    "\n",
    "sns.swarmplot(data,orient='v')\n",
    "\n",
    "![](./../../../img/2023-10-24-11-58-05.png)"
   ]
  },
  {
   "cell_type": "markdown",
   "metadata": {},
   "source": []
  }
 ],
 "metadata": {
  "kernelspec": {
   "display_name": "Python 3",
   "language": "python",
   "name": "python3"
  },
  "language_info": {
   "codemirror_mode": {
    "name": "ipython",
    "version": 3
   },
   "file_extension": ".py",
   "mimetype": "text/x-python",
   "name": "python",
   "nbconvert_exporter": "python",
   "pygments_lexer": "ipython3",
   "version": "3.7.4"
  }
 },
 "nbformat": 4,
 "nbformat_minor": 2
}
