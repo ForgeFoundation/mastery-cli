{
 "cells": [
  {
   "cell_type": "code",
   "execution_count": 16,
   "metadata": {},
   "outputs": [
    {
     "data": {
      "text/plain": [
       "<sqlite3.Cursor at 0x22c491029d0>"
      ]
     },
     "execution_count": 16,
     "metadata": {},
     "output_type": "execute_result"
    }
   ],
   "source": [
    "import sqlite3\n",
    "\n",
    "# Connect to the SQLite database (create it if it doesn't exist)\n",
    "conn = sqlite3.connect('employee_d.db')\n",
    "\n",
    "# Create a cursor object to execute SQL queries\n",
    "cursor = conn.cursor()\n",
    "\n",
    "# Create the Employee table and insert data\n",
    "cursor.execute('''CREATE TABLE IF NOT EXISTS Employee (\n",
    "                    id INT PRIMARY KEY,\n",
    "                    salary INT\n",
    "                )''')\n",
    "\n",
    "# Insert data into the Employee table\n",
    "employee_data = [\n",
    "    (1, 100),\n",
    "    (2, 200),\n",
    "    (3, 300),\n",
    "]\n",
    "\n",
    "\n",
    "\n",
    "cursor.executemany(\"INSERT INTO Employee (id, salary) VALUES (?, ?)\", employee_data)\n"
   ]
  },
  {
   "cell_type": "markdown",
   "metadata": {},
   "source": [
    "## Problem Description\n",
    "\n",
    "Table: Person\n",
    "\n",
    "| Column Name | Type    |\n",
    "|-------------|---------|\n",
    "| personId    | int     |\n",
    "| lastName    | varchar |\n",
    "| firstName   | varchar |\n",
    "\n",
    "`personId` is the primary key (column with unique values) for this table.\n",
    "\n",
    "This table contains information about the ID of some persons and their first and last names.\n",
    "\n",
    "Table: Address\n",
    "\n",
    "| Column Name | Type    |\n",
    "|-------------|---------|\n",
    "| addressId   | int     |\n",
    "| personId    | int     |\n",
    "| city        | varchar |\n",
    "| state       | varchar |\n",
    "\n",
    "`addressId` is the primary key (column with unique values) for this table.\n",
    "\n",
    "Each row of this table contains information about the city and state of one person with `personId`.\n",
    "\n",
    "Write a SQL query to report the first name, last name, city, and state of each person in the Person table. If the address of a `personId` is not present in the Address table, report null instead.\n",
    "\n",
    "Return the result table in any order.\n",
    "\n",
    "### Example\n",
    "\n",
    "Example 1:\n",
    "\n",
    "Input:\n",
    "Person table:\n",
    "| personId | lastName | firstName |\n",
    "|----------|----------|-----------|\n",
    "| 1        | Wang     | Allen     |\n",
    "| 2        | Alice    | Bob       |\n",
    "\n",
    "Address table:\n",
    "| addressId | personId | city          | state      |\n",
    "|-----------|----------|---------------|------------|\n",
    "| 1         | 2        | New York City | New York   |\n",
    "| 2         | 3        | Leetcode      | California |\n",
    "\n",
    "Output:\n",
    "| firstName | lastName | city          | state    |\n",
    "|-----------|----------|---------------|----------|\n",
    "| Allen     | Wang     | Null          | Null     |\n",
    "| Bob       | Alice    | New York City | New York |\n",
    "\n",
    "Explanation:\n",
    "There is no address in the address table for the personId = 1, so we return null in their city and state.\n",
    "addressId = 1 contains information about the address of personId = 2.\n",
    "\n",
    "https://leetcode.com/problems/second-highest-salary"
   ]
  },
  {
   "cell_type": "code",
   "execution_count": 23,
   "metadata": {},
   "outputs": [
    {
     "ename": "TypeError",
     "evalue": "'NoneType' object is not subscriptable",
     "output_type": "error",
     "traceback": [
      "\u001b[1;31m---------------------------------------------------------------------------\u001b[0m",
      "\u001b[1;31mTypeError\u001b[0m                                 Traceback (most recent call last)",
      "\u001b[1;32mc:\\github\\testing\\mappings-cli\\utils\\data-science-cli\\problems\\sql\\second-highest-salary.ipynb Cell 3\u001b[0m line \u001b[0;36m<cell line: 3>\u001b[1;34m()\u001b[0m\n\u001b[0;32m      <a href='vscode-notebook-cell:/c%3A/github/testing/mappings-cli/utils/data-science-cli/problems/sql/second-highest-salary.ipynb#W1sZmlsZQ%3D%3D?line=0'>1</a>\u001b[0m \u001b[39m# TODO Retrieve the second-highest salary\u001b[39;00m\n\u001b[1;32m----> <a href='vscode-notebook-cell:/c%3A/github/testing/mappings-cli/utils/data-science-cli/problems/sql/second-highest-salary.ipynb#W1sZmlsZQ%3D%3D?line=2'>3</a>\u001b[0m result \u001b[39m=\u001b[39m cursor\u001b[39m.\u001b[39;49mfetchone()[\u001b[39m0\u001b[39;49m]\n\u001b[0;32m      <a href='vscode-notebook-cell:/c%3A/github/testing/mappings-cli/utils/data-science-cli/problems/sql/second-highest-salary.ipynb#W1sZmlsZQ%3D%3D?line=5'>6</a>\u001b[0m \u001b[39m# Print the result\u001b[39;00m\n\u001b[0;32m      <a href='vscode-notebook-cell:/c%3A/github/testing/mappings-cli/utils/data-science-cli/problems/sql/second-highest-salary.ipynb#W1sZmlsZQ%3D%3D?line=6'>7</a>\u001b[0m \u001b[39mif\u001b[39;00m result \u001b[39mis\u001b[39;00m \u001b[39mNone\u001b[39;00m:\n",
      "\u001b[1;31mTypeError\u001b[0m: 'NoneType' object is not subscriptable"
     ]
    }
   ],
   "source": [
    "\n",
    "# TODO Retrieve the second-highest salary\n",
    "\n",
    "result = cursor.fetchone()[0]\n",
    "\n",
    "\n",
    "# Print the result\n",
    "if result is None:\n",
    "    print(None)\n",
    "else:\n",
    "    print(result)\n"
   ]
  },
  {
   "cell_type": "markdown",
   "metadata": {},
   "source": [
    "cursor.execute('''SELECT MAX(salary) AS SecondHighestSalary\n",
    "                  FROM Employee\n",
    "                  WHERE salary NOT IN (SELECT MAX(salary) FROM Employee)''')\n",
    "\n",
    "\n",
    "                  SELECT\n",
    "    IFNULL(\n",
    "      (SELECT DISTINCT Salary\n",
    "       FROM Employee\n",
    "       ORDER BY Salary DESC\n",
    "        LIMIT 1 OFFSET 1),\n",
    "    NULL) AS SecondHighestSalary\n",
    "\n",
    "\n",
    "\n",
    "    SELECT\n",
    "    (SELECT DISTINCT\n",
    "            Salary\n",
    "        FROM\n",
    "            Employee\n",
    "        ORDER BY Salary DESC\n",
    "        LIMIT 1 OFFSET 1) AS SecondHighestSalary\n",
    ";"
   ]
  },
  {
   "cell_type": "code",
   "execution_count": 14,
   "metadata": {},
   "outputs": [],
   "source": [
    "\n",
    "\n",
    "# Close the cursor and the database connection\n",
    "cursor.close()\n",
    "conn.close()\n"
   ]
  }
 ],
 "metadata": {
  "kernelspec": {
   "display_name": "base",
   "language": "python",
   "name": "python3"
  },
  "language_info": {
   "codemirror_mode": {
    "name": "ipython",
    "version": 3
   },
   "file_extension": ".py",
   "mimetype": "text/x-python",
   "name": "python",
   "nbconvert_exporter": "python",
   "pygments_lexer": "ipython3",
   "version": "3.9.12"
  }
 },
 "nbformat": 4,
 "nbformat_minor": 2
}
