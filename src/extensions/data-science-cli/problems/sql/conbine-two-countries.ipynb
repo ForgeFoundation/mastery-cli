{
 "cells": [
  {
   "cell_type": "code",
   "execution_count": 15,
   "metadata": {},
   "outputs": [
    {
     "data": {
      "text/plain": [
       "<sqlite3.Cursor at 0x1ad420c0f80>"
      ]
     },
     "execution_count": 15,
     "metadata": {},
     "output_type": "execute_result"
    }
   ],
   "source": [
    "import sqlite3\n",
    "\n",
    "# Connect to the SQLite database (create it if it doesn't exist)\n",
    "conn = sqlite3.connect('person_address.db')\n",
    "\n",
    "# Create a cursor object to execute SQL queries\n",
    "cursor = conn.cursor()\n",
    "\n",
    "# Create the Person and Address tables\n",
    "cursor.execute('''CREATE TABLE IF NOT EXISTS Person (\n",
    "                    personId INT PRIMARY KEY,\n",
    "                    lastName VARCHAR,\n",
    "                    firstName VARCHAR\n",
    "                )''')\n",
    "\n",
    "cursor.execute('''CREATE TABLE IF NOT EXISTS Address (\n",
    "                    addressId INT PRIMARY KEY,\n",
    "                    personId INT,\n",
    "                    city VARCHAR,\n",
    "                    state VARCHAR\n",
    "                )''')\n",
    "\n",
    "# Insert data into the Person table\n",
    "person_data = [\n",
    "    (1, 'Wang', 'Allen'),\n",
    "    (2, 'Alice', 'Bob'),\n",
    "]\n",
    "\n",
    "cursor.executemany(\"INSERT INTO Person (personId, lastName, firstName) VALUES (?, ?, ?)\", person_data)\n",
    "\n",
    "# Insert data into the Address table\n",
    "address_data = [\n",
    "    (1, 2, 'New York City', 'New York'),\n",
    "    (2, 3, 'Leetcode', 'California'),\n",
    "]\n",
    "\n",
    "cursor.executemany(\"INSERT INTO Address (addressId, personId, city, state) VALUES (?, ?, ?, ?)\", address_data)\n"
   ]
  },
  {
   "cell_type": "markdown",
   "metadata": {},
   "source": [
    "## Problem Description\n",
    "\n",
    "Table: Person\n",
    "\n",
    "| Column Name | Type    |\n",
    "|-------------|---------|\n",
    "| personId    | int     |\n",
    "| lastName    | varchar |\n",
    "| firstName   | varchar |\n",
    "\n",
    "`personId` is the primary key (column with unique values) for this table.\n",
    "\n",
    "This table contains information about the ID of some persons and their first and last names.\n",
    "\n",
    "Table: Address\n",
    "\n",
    "| Column Name | Type    |\n",
    "|-------------|---------|\n",
    "| addressId   | int     |\n",
    "| personId    | int     |\n",
    "| city        | varchar |\n",
    "| state       | varchar |\n",
    "\n",
    "`addressId` is the primary key (column with unique values) for this table.\n",
    "\n",
    "Each row of this table contains information about the city and state of one person with `personId`.\n",
    "\n",
    "Write a SQL query to report the first name, last name, city, and state of each person in the Person table. If the address of a `personId` is not present in the Address table, report null instead.\n",
    "\n",
    "Return the result table in any order.\n",
    "\n",
    "### Example\n",
    "\n",
    "Example 1:\n",
    "\n",
    "Input:\n",
    "Person table:\n",
    "| personId | lastName | firstName |\n",
    "|----------|----------|-----------|\n",
    "| 1        | Wang     | Allen     |\n",
    "| 2        | Alice    | Bob       |\n",
    "\n",
    "Address table:\n",
    "| addressId | personId | city          | state      |\n",
    "|-----------|----------|---------------|------------|\n",
    "| 1         | 2        | New York City | New York   |\n",
    "| 2         | 3        | Leetcode      | California |\n",
    "\n",
    "Output:\n",
    "| firstName | lastName | city          | state    |\n",
    "|-----------|----------|---------------|----------|\n",
    "| Allen     | Wang     | Null          | Null     |\n",
    "| Bob       | Alice    | New York City | New York |\n",
    "\n",
    "Explanation:\n",
    "There is no address in the address table for the personId = 1, so we return null in their city and state.\n",
    "addressId = 1 contains information about the address of personId = 2.\n",
    "\n"
   ]
  },
  {
   "cell_type": "code",
   "execution_count": 16,
   "metadata": {},
   "outputs": [
    {
     "name": "stdout",
     "output_type": "stream",
     "text": [
      "('Allen', 'Wang', None, None)\n",
      "('Bob', 'Alice', 'New York City', 'New York')\n"
     ]
    }
   ],
   "source": [
    "\n",
    "# TODO Retrieve the result\n",
    "\n",
    "\n",
    "result = cursor.fetchall()\n",
    "\n",
    "# Print the result\n",
    "for row in result:\n",
    "    print(row)\n"
   ]
  },
  {
   "cell_type": "markdown",
   "metadata": {},
   "source": [
    "\n",
    "cursor.execute('''SELECT p.firstName, p.lastName, a.city, a.state\n",
    "                  FROM Person p\n",
    "                  LEFT JOIN Address a ON p.personId = a.personId''')\n"
   ]
  },
  {
   "cell_type": "code",
   "execution_count": 17,
   "metadata": {},
   "outputs": [],
   "source": [
    "\n",
    "# Close the cursor and the database connection\n",
    "cursor.close()\n",
    "conn.close()"
   ]
  },
  {
   "cell_type": "code",
   "execution_count": null,
   "metadata": {},
   "outputs": [],
   "source": []
  }
 ],
 "metadata": {
  "kernelspec": {
   "display_name": "base",
   "language": "python",
   "name": "python3"
  },
  "language_info": {
   "codemirror_mode": {
    "name": "ipython",
    "version": 3
   },
   "file_extension": ".py",
   "mimetype": "text/x-python",
   "name": "python",
   "nbconvert_exporter": "python",
   "pygments_lexer": "ipython3",
   "version": "3.9.12"
  }
 },
 "nbformat": 4,
 "nbformat_minor": 2
}
