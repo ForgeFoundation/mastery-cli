{
 "cells": [
  {
   "cell_type": "markdown",
   "metadata": {},
   "source": [
    "# Data wrangling with Pandas exercise\n",
    "* For this exercise we will be using the `listings.csv` data file."
   ]
  },
  {
   "cell_type": "code",
   "execution_count": 23,
   "metadata": {},
   "outputs": [],
   "source": [
    "import pandas as pd\n",
    "import numpy as np"
   ]
  },
  {
   "cell_type": "markdown",
   "metadata": {},
   "source": [
    "# Load in the data file using `pd.read_csv()`"
   ]
  },
  {
   "cell_type": "code",
   "execution_count": 1,
   "metadata": {},
   "outputs": [],
   "source": [
    "# Load data here\n",
    "\n"
   ]
  },
  {
   "cell_type": "markdown",
   "metadata": {
    "jupyter": {
     "source_hidden": true
    },
    "tags": []
   },
   "source": [
    "```py\n",
    "# Load data here\n",
    "READFROM=\"data/listings.csv\"\n",
    "df = pd.read_csv(READFROM)\n",
    "\n",
    "df.head()\n",
    "```"
   ]
  },
  {
   "cell_type": "markdown",
   "metadata": {},
   "source": [
    "## Exercise 2 - Filtering\n",
    "\n",
    "Return the following subsets of the dataframe.\n",
    "\n",
    "1. How many listings are there with a price less than 100? \n",
    "\n",
    "\n",
    "2. Find how many listings there are in just Brooklyn.\n",
    "\n",
    "\n",
    "3. Find how many listings there are in Brooklyn with a price less than 100.\n",
    "\n",
    "\n",
    "4. Using `.isin()` select anyone that has the host name of Michael, David, John, and Daniel.\n",
    "\n",
    "\n",
    "5. Create a new column called `adjusted_price` that has $100 added to every listing in Williamsburg.  The prices for all other listings should be the same as the were before. \n",
    "\n",
    "\n",
    "6. What % of the rooms are private, and what % of the rooms are shared.  \n",
    "    * Hint, use `.value_counts()`\n"
   ]
  },
  {
   "cell_type": "code",
   "execution_count": 2,
   "metadata": {},
   "outputs": [],
   "source": [
    "# 1. How many listings are there with a price less than 100? \n",
    "\n",
    "\n"
   ]
  },
  {
   "cell_type": "code",
   "execution_count": 3,
   "metadata": {},
   "outputs": [],
   "source": [
    "# 2. Make a new DataFrame of listings in Brooklyn named `df_bk` \n",
    "# and find how many listings in just Brooklyn.\n",
    "\n"
   ]
  },
  {
   "cell_type": "code",
   "execution_count": 4,
   "metadata": {},
   "outputs": [],
   "source": [
    "# 3. Find how many listings there are in Brooklyn with a price less than 100.\n",
    "\n",
    "\n"
   ]
  },
  {
   "cell_type": "code",
   "execution_count": 5,
   "metadata": {},
   "outputs": [],
   "source": [
    "# 4. Using `.isin()` select anyone that has the host name of Michael, David, John, and Daniel.\n",
    "\n",
    "\n"
   ]
  },
  {
   "cell_type": "code",
   "execution_count": 6,
   "metadata": {},
   "outputs": [],
   "source": [
    "# 5. Create a new column called `adjusted_price` that has $100 added to every listing in Williamsburg.  \n",
    "# The prices for all other listings should be the same as the were before. \n",
    "\n"
   ]
  },
  {
   "cell_type": "code",
   "execution_count": 7,
   "metadata": {},
   "outputs": [],
   "source": [
    "# 6. What % of the rooms are private, and what % of the rooms are shared.  \n",
    "\n",
    "\n",
    "\n"
   ]
  },
  {
   "cell_type": "markdown",
   "metadata": {
    "jupyter": {
     "source_hidden": true
    },
    "tags": []
   },
   "source": [
    "```py\n",
    "# 1. How many listings are there with a price less than 100? \n",
    "\n",
    "comparator = df['price'] < 100\n",
    "# len(list(filter(lambda x: x==True, comparator)))\n",
    "len(df[comparator])\n",
    "\n",
    "# 2. Make a new DataFrame of listings in Brooklyn named `df_bk` \n",
    "# and find how many listings in just Brooklyn.\n",
    "\n",
    "\n",
    "# gb = df.groupby('neighbourhood_group')\n",
    "# dir(gb)\n",
    "\n",
    "brooklyn_comparator = df[\"neighbourhood_group\"] == \"Brooklyn\"\n",
    "# print(brooklyn_comparator)\n",
    "\n",
    "# count_brooklyn = len(list(filter(lambda x: x==True, brooklyn_comparator)))\n",
    "count_brooklyn = len(df[brooklyn_comparator])\n",
    "print(\"count of listings in Brooklyn\", count_brooklyn)\n",
    "\n",
    "# 3. Find how many listings there are in Brooklyn with a price less than 100.\n",
    "\n",
    "in_brooklyn = df[\"neighbourhood_group\"] == \"Brooklyn\"\n",
    "\n",
    "less_100 = df[\"price\"] < 100\n",
    "\n",
    "# Select all data that meets condition 1 or condition 2\n",
    "# df[ in_brooklyn & less_100]\n",
    "\n",
    "len(df[in_brooklyn & less_100])\n",
    "\n",
    "# 4. Using `.isin()` select anyone that has the host name of Michael, David, John, and Daniel.\n",
    "host_names = [\"Michael\", \"David\", \"John\", \"Daniel\"]\n",
    "\n",
    "chosen_ones = df.host_name.isin(host_names)\n",
    "print(len(df[chosen_ones]))\n",
    "\n",
    "# 5. Create a new column called `adjusted_price` that has $100 added to every listing in Williamsburg.  \n",
    "# The prices for all other listings should be the same as the were before. \n",
    "def adjust_price_william(x):\n",
    "#     print(x)\n",
    "    if \"Williamsburg\" == str(x):\n",
    "        return 100\n",
    "    else:\n",
    "        return 0\n",
    "    \n",
    "df[\"adjusted_price\"] = df[\"price\"]\n",
    "df['adjusted_price'] += df['neighbourhood'].apply(adjust_price_william)\n",
    "\n",
    "\n",
    "df.head(50)\n",
    "\n",
    "# 6. What % of the rooms are private, and what % of the rooms are shared.  \n",
    "\n",
    "# shared_type = df[\"room_type\"] == \"Shared room\"\n",
    "# private_type = df[\"room_type\"] == \"Private Room\"\n",
    "\n",
    "class ROOM():\n",
    "    SHARED = \"Shared room\"\n",
    "    PRIVATE = \"Private room\"\n",
    "\n",
    "def getPercentage(dataFrame, category):\n",
    "    type_cond = df[\"room_type\"] == category\n",
    "    return len(dataFrame[type_cond])/len(dataFrame)\n",
    "\n",
    "print(f\"Percentage Private: {getPercentage(df, ROOM.PRIVATE)}\\nShared: {getPercentage(df, ROOM.SHARED)}\")\n",
    "\n",
    "\n",
    "\n",
    "\n",
    "\n",
    "```"
   ]
  },
  {
   "cell_type": "markdown",
   "metadata": {},
   "source": [
    "# Exercise 3 - Grouping\n",
    "\n",
    "1. Using `groupby`, count how many listings are in each neighbourhood_group.\n",
    "\n",
    "\n",
    "2. Using `groupby`, find the mean price for each of the neighbourhood_groups. \n",
    "\n",
    "\n",
    "3. Using `groupby` and `.agg()`, find the min and max price for each of the neighbourhood_groups. \n",
    "\n",
    "\n",
    "4. Using `groupby`, find the median price for each room type in each neighbourhood_group.\n",
    "\n",
    "\n",
    "5. Using `groupby` and `.agg()`, find the count, min, max, mean, median, and std of the prices for each room type in each neighbourhood_group."
   ]
  },
  {
   "cell_type": "code",
   "execution_count": 8,
   "metadata": {},
   "outputs": [],
   "source": [
    "# 1. Using `groupby`, count how many listings are in each neighbourhood_group.\n",
    "\n",
    "\n"
   ]
  },
  {
   "cell_type": "code",
   "execution_count": 12,
   "metadata": {},
   "outputs": [],
   "source": [
    "# 2. Using `groupby`, find the mean price for each of the neighbourhood_groups. \n",
    "\n",
    "\n"
   ]
  },
  {
   "cell_type": "code",
   "execution_count": 13,
   "metadata": {},
   "outputs": [],
   "source": [
    "# 3. Using `groupby` and `.agg()`, find the min and max price for each of the neighbourhood_groups. \n",
    "\n",
    "\n"
   ]
  },
  {
   "cell_type": "code",
   "execution_count": 14,
   "metadata": {},
   "outputs": [],
   "source": [
    "# 4. Using `groupby`, find the mean price for each room type in each neighbourhood_group.\n",
    "\n"
   ]
  },
  {
   "cell_type": "code",
   "execution_count": 1,
   "metadata": {},
   "outputs": [],
   "source": [
    "# 5. Using `groupby` and `.agg()`, find the count, min, max, mean, median, and std of the prices \n",
    "# for each room type in each neighbourhood_group.\n",
    "\n",
    "\n",
    "\n"
   ]
  },
  {
   "cell_type": "markdown",
   "metadata": {
    "jupyter": {
     "source_hidden": true
    },
    "tags": []
   },
   "source": [
    "```py\n",
    "# 1. Using `groupby`, count how many listings are in each neighbourhood_group.\n",
    "\n",
    "gb = df.groupby(\"neighbourhood_group\")\n",
    "print(gb.size())\n",
    "\n",
    "# 2. Using `groupby`, find the mean price for each of the neighbourhood_groups. \n",
    "\n",
    "\n",
    "gb = df.groupby(\"neighbourhood_group\")\n",
    "print(gb[\"price\"].mean())\n",
    "\n",
    "\n",
    "# 3. Using `groupby` and `.agg()`, find the min and max price for each of the neighbourhood_groups. \n",
    "\n",
    "\n",
    "gb = df.groupby(\"neighbourhood_group\")\n",
    "print(gb[\"price\"].agg([\"min\", \"max\"]))\n",
    "\n",
    "# 4. Using `groupby`, find the mean price for each room type in each neighbourhood_group.\n",
    "\n",
    "\n",
    "gb = df.groupby(\"room_type\")\n",
    "print(gb[\"price\"].mean())\n",
    "\n",
    "# 5. Using `groupby` and `.agg()`, find the count, min, max, mean, median, and std of the prices \n",
    "# for each room type in each neighbourhood_group.\n",
    "\n",
    "\n",
    "\n",
    "gb = df.groupby(\"room_type\")\n",
    "print(gb[\"price\"].agg([\"count\", \"min\", \"max\", \"mean\", \"median\", \"std\"]))\n",
    "\n",
    "\n",
    "\n",
    "```"
   ]
  },
  {
   "cell_type": "markdown",
   "metadata": {},
   "source": [
    "# Join and file saving.\n",
    "1. Load the `prices.csv` and the `n_listings.csv`\n",
    "\n",
    "\n",
    "2. Do join that keeps all the records for each table.\n",
    "    * Neighbourhood groups should include ['Bronx', 'Brooklyn', 'Manhattan', 'Queens', 'Staten Island',\n",
    "       'LongIsland']\n",
    "       \n",
    "       \n",
    "3. Save your joined csv as `joined.csv`\n",
    "\n",
    "\n",
    "4. Load your saved table and see if it looks the same or different that the DataFrame you used to create it. "
   ]
  },
  {
   "cell_type": "code",
   "execution_count": 16,
   "metadata": {},
   "outputs": [],
   "source": [
    "# 1. Load the `prices.csv` and the `n_listings.csv`\n",
    "\n"
   ]
  },
  {
   "cell_type": "code",
   "execution_count": 18,
   "metadata": {},
   "outputs": [],
   "source": [
    "# 2. Do join that keeps all the records for each table.\n",
    "\n",
    "\n"
   ]
  },
  {
   "cell_type": "markdown",
   "metadata": {
    "jupyter": {
     "source_hidden": true
    },
    "tags": []
   },
   "source": [
    "```py\n",
    "# 1. Load the `prices.csv` and the `n_listings.csv`\n",
    "# Load data here\n",
    "LISTINGSREAD=\"data/n_listings.csv\"\n",
    "dflisting = pd.read_csv(LISTINGSREAD, sep=';')\n",
    "\n",
    "PRICESREAD=\"data/prices.csv\"\n",
    "priceslisting = pd.read_csv(PRICESREAD)\n",
    "\n",
    "# priceslisting.head()\n",
    "dflisting.head()\n",
    "\n",
    "# neighbourhood_group\n",
    "\n",
    "new_df = pd.merge(dflisting, priceslisting, on=\"neighbourhood_group\")\n",
    "print(new_df.head())\n",
    "# # \n",
    "\n",
    "priceslisting.head()\n",
    "\n",
    "dflisting.head()\n",
    "\n",
    "# 2. Do join that keeps all the records for each table.\n",
    "\n",
    "new_df = pd.merge(dflisting, priceslisting, on=\"neighbourhood_group\", how='outer')\n",
    "print(new_df.head())\n",
    "\n",
    "\n",
    "save_as = 'my-data-file.csv'\n",
    "\n",
    "# This is the method you use, DONT FORGET INDEX=FALSE!\n",
    "# Index are the numbers\n",
    "new_df.to_csv(save_as, index=False)\n",
    "\n",
    "```"
   ]
  },
  {
   "cell_type": "markdown",
   "metadata": {},
   "source": [
    "# Use the grammys.csv data for the next section of questions.\n",
    "\n",
    "1. Who was won Album of the Year in 2016?\n",
    "\n",
    "\n",
    "2. Who won Best Rap Album in 2009?\n",
    "\n",
    "\n",
    "3. How many awards was Kendrick Lamar nomiated for, and how many did he win...?"
   ]
  },
  {
   "cell_type": "code",
   "execution_count": 19,
   "metadata": {},
   "outputs": [],
   "source": [
    "#  1. Who was won Album of the Year in 2016?\n",
    "\n",
    "\n"
   ]
  },
  {
   "cell_type": "code",
   "execution_count": 20,
   "metadata": {},
   "outputs": [],
   "source": [
    "# 2. Who won Best Rap Album in 2009?\n",
    "\n",
    "\n"
   ]
  },
  {
   "cell_type": "code",
   "execution_count": 21,
   "metadata": {},
   "outputs": [],
   "source": [
    "# 3. How many awards was Kendrick Lamar nomiated for, and how many did he win...?\n",
    "\n",
    "\n"
   ]
  },
  {
   "cell_type": "markdown",
   "metadata": {
    "jupyter": {
     "source_hidden": true
    },
    "tags": []
   },
   "source": [
    "```py\n",
    "\n",
    "\n",
    "FILEPATH_GRAMMY=\"data/grammys.csv\"\n",
    "df = pd.read_csv(FILEPATH_GRAMMY, sep=\",\")\n",
    "df.head(50)\n",
    "\n",
    "#  1. Who was won Album of the Year in 2016?\n",
    "\n",
    "\n",
    "cond_year = df[\"year\"] == 2016\n",
    "cond_category = df[\"category\"] == \"Album of the Year\"\n",
    "cond_winner = df[\"winner\"] == True\n",
    "\n",
    "\n",
    "\n",
    "df[cond & cond_winner & cond_category]\n",
    "\n",
    "# 2. Who won Best Rap Album in 2009?\n",
    "\n",
    "cond_year = df[\"year\"] == 2009\n",
    "cond_category = df[\"category\"] == \"Best Rap Album\"\n",
    "cond_winner = df[\"winner\"] == True\n",
    "\n",
    "\n",
    "\n",
    "df[cond & cond_winner & cond_category]\n",
    "\n",
    "\n",
    "# 3. How many awards was Kendrick Lamar nomiated for, and how many did he win...?\n",
    "\n",
    "cond_nominee = df[\"workers\"] == \"Kendrick Lamar\"\n",
    "cond_winner = df[\"winner\"] == True\n",
    "\n",
    "print(f\"Awards Kendrick was nominated for: {df[cond_nominee].shape[0] }\\nAwards won: \")\n",
    "\n",
    "df[cond_winner & cond_nominee]\n",
    "\n",
    "\n",
    "\n",
    "\n",
    "```"
   ]
  },
  {
   "cell_type": "code",
   "execution_count": null,
   "metadata": {},
   "outputs": [],
   "source": []
  }
 ],
 "metadata": {
  "kernelspec": {
   "display_name": "Python 3 (ipykernel)",
   "language": "python",
   "name": "python3"
  },
  "language_info": {
   "codemirror_mode": {
    "name": "ipython",
    "version": 3
   },
   "file_extension": ".py",
   "mimetype": "text/x-python",
   "name": "python",
   "nbconvert_exporter": "python",
   "pygments_lexer": "ipython3",
   "version": "3.9.12"
  }
 },
 "nbformat": 4,
 "nbformat_minor": 4
}
